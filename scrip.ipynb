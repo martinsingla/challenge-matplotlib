{
 "cells": [
  {
   "cell_type": "markdown",
   "id": "serious-bearing",
   "metadata": {},
   "source": [
    "# Challenge Matplotlib\n",
    "\n",
    "Martin Singla - Data Analyst\n",
    "\n",
    "Coding challenge using Python Matplotlib framework , part of the Data Analytics Bootcamp program by Tecnológico de Monterrey"
   ]
  },
  {
   "cell_type": "markdown",
   "id": "collective-incidence",
   "metadata": {},
   "source": [
    "### Data Loading , Exploration & Cleaning"
   ]
  },
  {
   "cell_type": "code",
   "execution_count": 1,
   "id": "arabic-frederick",
   "metadata": {},
   "outputs": [
    {
     "data": {
      "text/html": [
       "<div>\n",
       "<style scoped>\n",
       "    .dataframe tbody tr th:only-of-type {\n",
       "        vertical-align: middle;\n",
       "    }\n",
       "\n",
       "    .dataframe tbody tr th {\n",
       "        vertical-align: top;\n",
       "    }\n",
       "\n",
       "    .dataframe thead th {\n",
       "        text-align: right;\n",
       "    }\n",
       "</style>\n",
       "<table border=\"1\" class=\"dataframe\">\n",
       "  <thead>\n",
       "    <tr style=\"text-align: right;\">\n",
       "      <th></th>\n",
       "      <th>Mouse ID</th>\n",
       "      <th>Timepoint</th>\n",
       "      <th>Tumor Volume (mm3)</th>\n",
       "      <th>Metastatic Sites</th>\n",
       "      <th>Drug Regimen</th>\n",
       "      <th>Sex</th>\n",
       "      <th>Age_months</th>\n",
       "      <th>Weight (g)</th>\n",
       "    </tr>\n",
       "  </thead>\n",
       "  <tbody>\n",
       "    <tr>\n",
       "      <th>0</th>\n",
       "      <td>b128</td>\n",
       "      <td>0</td>\n",
       "      <td>45.0</td>\n",
       "      <td>0</td>\n",
       "      <td>Capomulin</td>\n",
       "      <td>Female</td>\n",
       "      <td>9</td>\n",
       "      <td>22</td>\n",
       "    </tr>\n",
       "    <tr>\n",
       "      <th>1</th>\n",
       "      <td>f932</td>\n",
       "      <td>0</td>\n",
       "      <td>45.0</td>\n",
       "      <td>0</td>\n",
       "      <td>Ketapril</td>\n",
       "      <td>Male</td>\n",
       "      <td>15</td>\n",
       "      <td>29</td>\n",
       "    </tr>\n",
       "    <tr>\n",
       "      <th>2</th>\n",
       "      <td>g107</td>\n",
       "      <td>0</td>\n",
       "      <td>45.0</td>\n",
       "      <td>0</td>\n",
       "      <td>Ketapril</td>\n",
       "      <td>Female</td>\n",
       "      <td>2</td>\n",
       "      <td>29</td>\n",
       "    </tr>\n",
       "    <tr>\n",
       "      <th>3</th>\n",
       "      <td>a457</td>\n",
       "      <td>0</td>\n",
       "      <td>45.0</td>\n",
       "      <td>0</td>\n",
       "      <td>Ketapril</td>\n",
       "      <td>Female</td>\n",
       "      <td>11</td>\n",
       "      <td>30</td>\n",
       "    </tr>\n",
       "    <tr>\n",
       "      <th>4</th>\n",
       "      <td>c819</td>\n",
       "      <td>0</td>\n",
       "      <td>45.0</td>\n",
       "      <td>0</td>\n",
       "      <td>Ketapril</td>\n",
       "      <td>Male</td>\n",
       "      <td>21</td>\n",
       "      <td>25</td>\n",
       "    </tr>\n",
       "  </tbody>\n",
       "</table>\n",
       "</div>"
      ],
      "text/plain": [
       "  Mouse ID  Timepoint  Tumor Volume (mm3)  Metastatic Sites Drug Regimen  \\\n",
       "0     b128          0                45.0                 0    Capomulin   \n",
       "1     f932          0                45.0                 0     Ketapril   \n",
       "2     g107          0                45.0                 0     Ketapril   \n",
       "3     a457          0                45.0                 0     Ketapril   \n",
       "4     c819          0                45.0                 0     Ketapril   \n",
       "\n",
       "      Sex  Age_months  Weight (g)  \n",
       "0  Female           9          22  \n",
       "1    Male          15          29  \n",
       "2  Female           2          29  \n",
       "3  Female          11          30  \n",
       "4    Male          21          25  "
      ]
     },
     "execution_count": 1,
     "metadata": {},
     "output_type": "execute_result"
    }
   ],
   "source": [
    "#loading dependencies\n",
    "import pandas as pd\n",
    "import numpy as np\n",
    "import matplotlib.pyplot as plt\n",
    "\n",
    "#loading data\n",
    "mouses = pd.read_csv(\"data/Mouse_metadata.csv\")\n",
    "results = pd.read_csv(\"data/Study_results.csv\")\n",
    "\n",
    "#Basic exploration of the df\n",
    "\n",
    "#Mouses df\n",
    "mouses.head()\n",
    "len(mouses[\"Mouse ID\"].unique()) #249 unique mouses\n",
    "mouses[\"Mouse ID\"].value_counts()[mouses[\"Mouse ID\"].value_counts() > 1] #seems to be no repeated values\n",
    "mouses[\"Drug Regimen\"].value_counts() #10 drugs / 24-25 cases each\n",
    "mouses[\"Sex\"].value_counts() #50% -50% distribution by sex\n",
    "mouses.describe() #get summary stats from AGE and WEIGHT variables, both seem relatively nrmally distributed\n",
    "\n",
    "#Results df\n",
    "results.head()\n",
    "len(results[\"Mouse ID\"].unique()) #also 249 unique mouses\n",
    "len(results[\"Timepoint\"].unique()) #10 unique timepoints\n",
    "results[\"Timepoint\"].unique() #which go 5 by 5...\n",
    "results.iloc[:,2].describe() #tumor volume summary stats\n",
    "results[\"Metastatic Sites\"].unique() #what is this variabl??\n",
    "\n",
    "#merging dfs\n",
    "data = pd.merge(results, mouses, on= \"Mouse ID\", how= \"left\") \n",
    "data.head() #btw, shouldn´t WEIGHT be another experimental variable and not an ID descriptor?"
   ]
  },
  {
   "cell_type": "code",
   "execution_count": 2,
   "id": "modular-thunder",
   "metadata": {},
   "outputs": [
    {
     "data": {
      "text/plain": [
       "248"
      ]
     },
     "execution_count": 2,
     "metadata": {},
     "output_type": "execute_result"
    }
   ],
   "source": [
    "#Data cleaning / removing duplicated cases\n",
    "\n",
    "data[data.duplicated()] #one duplicated entry found (row id 137, mouse ID = g989)\n",
    "data.loc[data[\"Mouse ID\"] == \"g989\",:] #the entries for this rat are a mess, we have duplicated timepoints all over the place\n",
    "\n",
    "data[\"Mouse ID\"].unique() #examples: b128, f932, g107, a457, c819\n",
    "#try see how other examples should look like\n",
    "data.loc[data[\"Mouse ID\"] == \"a457\",:] #checking examples of timepoint series for each rat, there shouldn-t be duplicated values\n",
    "\n",
    "#master group\n",
    "a = data.groupby([\"Mouse ID\", \"Timepoint\"])[\"Timepoint\"].count() \n",
    "a[a > 1] #effectively, Mouse ID g989 is the only case with duplicated timepoints.\n",
    "\n",
    "data = data.loc[data[\"Mouse ID\"] != \"g989\",:] #we don´t know what happened with the data entry of that mouse, let´s just drop it\n",
    "len(data[\"Mouse ID\"].unique()) #df with one less observation"
   ]
  },
  {
   "cell_type": "markdown",
   "id": "conventional-consumption",
   "metadata": {},
   "source": [
    "### General Statistics by Drug Regimen"
   ]
  },
  {
   "cell_type": "code",
   "execution_count": 3,
   "id": "twenty-landing",
   "metadata": {},
   "outputs": [
    {
     "data": {
      "text/html": [
       "<div>\n",
       "<style scoped>\n",
       "    .dataframe tbody tr th:only-of-type {\n",
       "        vertical-align: middle;\n",
       "    }\n",
       "\n",
       "    .dataframe tbody tr th {\n",
       "        vertical-align: top;\n",
       "    }\n",
       "\n",
       "    .dataframe thead th {\n",
       "        text-align: right;\n",
       "    }\n",
       "</style>\n",
       "<table border=\"1\" class=\"dataframe\">\n",
       "  <thead>\n",
       "    <tr style=\"text-align: right;\">\n",
       "      <th></th>\n",
       "      <th>count</th>\n",
       "      <th>mean</th>\n",
       "      <th>median</th>\n",
       "      <th>std</th>\n",
       "      <th>var</th>\n",
       "      <th>sem</th>\n",
       "    </tr>\n",
       "    <tr>\n",
       "      <th>Drug Regimen</th>\n",
       "      <th></th>\n",
       "      <th></th>\n",
       "      <th></th>\n",
       "      <th></th>\n",
       "      <th></th>\n",
       "      <th></th>\n",
       "    </tr>\n",
       "  </thead>\n",
       "  <tbody>\n",
       "    <tr>\n",
       "      <th>Capomulin</th>\n",
       "      <td>230</td>\n",
       "      <td>40.675741</td>\n",
       "      <td>41.557809</td>\n",
       "      <td>4.994774</td>\n",
       "      <td>24.947764</td>\n",
       "      <td>0.329346</td>\n",
       "    </tr>\n",
       "    <tr>\n",
       "      <th>Ceftamin</th>\n",
       "      <td>178</td>\n",
       "      <td>52.591172</td>\n",
       "      <td>51.776157</td>\n",
       "      <td>6.268188</td>\n",
       "      <td>39.290177</td>\n",
       "      <td>0.469821</td>\n",
       "    </tr>\n",
       "    <tr>\n",
       "      <th>Infubinol</th>\n",
       "      <td>178</td>\n",
       "      <td>52.884795</td>\n",
       "      <td>51.820584</td>\n",
       "      <td>6.567243</td>\n",
       "      <td>43.128684</td>\n",
       "      <td>0.492236</td>\n",
       "    </tr>\n",
       "    <tr>\n",
       "      <th>Ketapril</th>\n",
       "      <td>188</td>\n",
       "      <td>55.235638</td>\n",
       "      <td>53.698743</td>\n",
       "      <td>8.279709</td>\n",
       "      <td>68.553577</td>\n",
       "      <td>0.603860</td>\n",
       "    </tr>\n",
       "    <tr>\n",
       "      <th>Naftisol</th>\n",
       "      <td>186</td>\n",
       "      <td>54.331565</td>\n",
       "      <td>52.509285</td>\n",
       "      <td>8.134708</td>\n",
       "      <td>66.173479</td>\n",
       "      <td>0.596466</td>\n",
       "    </tr>\n",
       "    <tr>\n",
       "      <th>Placebo</th>\n",
       "      <td>181</td>\n",
       "      <td>54.033581</td>\n",
       "      <td>52.288934</td>\n",
       "      <td>7.821003</td>\n",
       "      <td>61.168083</td>\n",
       "      <td>0.581331</td>\n",
       "    </tr>\n",
       "    <tr>\n",
       "      <th>Propriva</th>\n",
       "      <td>148</td>\n",
       "      <td>52.320930</td>\n",
       "      <td>50.446266</td>\n",
       "      <td>6.622085</td>\n",
       "      <td>43.852013</td>\n",
       "      <td>0.544332</td>\n",
       "    </tr>\n",
       "    <tr>\n",
       "      <th>Ramicane</th>\n",
       "      <td>228</td>\n",
       "      <td>40.216745</td>\n",
       "      <td>40.673236</td>\n",
       "      <td>4.846308</td>\n",
       "      <td>23.486704</td>\n",
       "      <td>0.320955</td>\n",
       "    </tr>\n",
       "    <tr>\n",
       "      <th>Stelasyn</th>\n",
       "      <td>181</td>\n",
       "      <td>54.233149</td>\n",
       "      <td>52.431737</td>\n",
       "      <td>7.710419</td>\n",
       "      <td>59.450562</td>\n",
       "      <td>0.573111</td>\n",
       "    </tr>\n",
       "    <tr>\n",
       "      <th>Zoniferol</th>\n",
       "      <td>182</td>\n",
       "      <td>53.236507</td>\n",
       "      <td>51.818479</td>\n",
       "      <td>6.966589</td>\n",
       "      <td>48.533355</td>\n",
       "      <td>0.516398</td>\n",
       "    </tr>\n",
       "  </tbody>\n",
       "</table>\n",
       "</div>"
      ],
      "text/plain": [
       "              count       mean     median       std        var       sem\n",
       "Drug Regimen                                                            \n",
       "Capomulin       230  40.675741  41.557809  4.994774  24.947764  0.329346\n",
       "Ceftamin        178  52.591172  51.776157  6.268188  39.290177  0.469821\n",
       "Infubinol       178  52.884795  51.820584  6.567243  43.128684  0.492236\n",
       "Ketapril        188  55.235638  53.698743  8.279709  68.553577  0.603860\n",
       "Naftisol        186  54.331565  52.509285  8.134708  66.173479  0.596466\n",
       "Placebo         181  54.033581  52.288934  7.821003  61.168083  0.581331\n",
       "Propriva        148  52.320930  50.446266  6.622085  43.852013  0.544332\n",
       "Ramicane        228  40.216745  40.673236  4.846308  23.486704  0.320955\n",
       "Stelasyn        181  54.233149  52.431737  7.710419  59.450562  0.573111\n",
       "Zoniferol       182  53.236507  51.818479  6.966589  48.533355  0.516398"
      ]
     },
     "execution_count": 3,
     "metadata": {},
     "output_type": "execute_result"
    }
   ],
   "source": [
    "#Quick summary stats table of TUMOR VOLUME by DRUG REGIMEN\n",
    "df1 = data.groupby(\"Drug Regimen\")[\"Tumor Volume (mm3)\"].agg([\"count\", \"mean\", \"median\", \"std\", \"var\", \"sem\"])\n",
    "df1"
   ]
  },
  {
   "cell_type": "code",
   "execution_count": 4,
   "id": "suspected-market",
   "metadata": {},
   "outputs": [
    {
     "data": {
      "text/html": [
       "<div>\n",
       "<style scoped>\n",
       "    .dataframe tbody tr th:only-of-type {\n",
       "        vertical-align: middle;\n",
       "    }\n",
       "\n",
       "    .dataframe tbody tr th {\n",
       "        vertical-align: top;\n",
       "    }\n",
       "\n",
       "    .dataframe thead th {\n",
       "        text-align: right;\n",
       "    }\n",
       "</style>\n",
       "<table border=\"1\" class=\"dataframe\">\n",
       "  <thead>\n",
       "    <tr style=\"text-align: right;\">\n",
       "      <th></th>\n",
       "      <th>count</th>\n",
       "      <th>Mean</th>\n",
       "      <th>Median</th>\n",
       "      <th>St.Dev.</th>\n",
       "      <th>Variance</th>\n",
       "      <th>SEM</th>\n",
       "    </tr>\n",
       "    <tr>\n",
       "      <th>Drug Regimen</th>\n",
       "      <th></th>\n",
       "      <th></th>\n",
       "      <th></th>\n",
       "      <th></th>\n",
       "      <th></th>\n",
       "      <th></th>\n",
       "    </tr>\n",
       "  </thead>\n",
       "  <tbody>\n",
       "    <tr>\n",
       "      <th>Capomulin</th>\n",
       "      <td>230</td>\n",
       "      <td>40.675741</td>\n",
       "      <td>41.557809</td>\n",
       "      <td>4.994774</td>\n",
       "      <td>24.947764</td>\n",
       "      <td>0.329346</td>\n",
       "    </tr>\n",
       "    <tr>\n",
       "      <th>Ceftamin</th>\n",
       "      <td>178</td>\n",
       "      <td>52.591172</td>\n",
       "      <td>51.776157</td>\n",
       "      <td>6.268188</td>\n",
       "      <td>39.290177</td>\n",
       "      <td>0.469821</td>\n",
       "    </tr>\n",
       "    <tr>\n",
       "      <th>Infubinol</th>\n",
       "      <td>178</td>\n",
       "      <td>52.884795</td>\n",
       "      <td>51.820584</td>\n",
       "      <td>6.567243</td>\n",
       "      <td>43.128684</td>\n",
       "      <td>0.492236</td>\n",
       "    </tr>\n",
       "    <tr>\n",
       "      <th>Ketapril</th>\n",
       "      <td>188</td>\n",
       "      <td>55.235638</td>\n",
       "      <td>53.698743</td>\n",
       "      <td>8.279709</td>\n",
       "      <td>68.553577</td>\n",
       "      <td>0.603860</td>\n",
       "    </tr>\n",
       "    <tr>\n",
       "      <th>Naftisol</th>\n",
       "      <td>186</td>\n",
       "      <td>54.331565</td>\n",
       "      <td>52.509285</td>\n",
       "      <td>8.134708</td>\n",
       "      <td>66.173479</td>\n",
       "      <td>0.596466</td>\n",
       "    </tr>\n",
       "    <tr>\n",
       "      <th>Placebo</th>\n",
       "      <td>181</td>\n",
       "      <td>54.033581</td>\n",
       "      <td>52.288934</td>\n",
       "      <td>7.821003</td>\n",
       "      <td>61.168083</td>\n",
       "      <td>0.581331</td>\n",
       "    </tr>\n",
       "    <tr>\n",
       "      <th>Propriva</th>\n",
       "      <td>148</td>\n",
       "      <td>52.320930</td>\n",
       "      <td>50.446266</td>\n",
       "      <td>6.622085</td>\n",
       "      <td>43.852013</td>\n",
       "      <td>0.544332</td>\n",
       "    </tr>\n",
       "    <tr>\n",
       "      <th>Ramicane</th>\n",
       "      <td>228</td>\n",
       "      <td>40.216745</td>\n",
       "      <td>40.673236</td>\n",
       "      <td>4.846308</td>\n",
       "      <td>23.486704</td>\n",
       "      <td>0.320955</td>\n",
       "    </tr>\n",
       "    <tr>\n",
       "      <th>Stelasyn</th>\n",
       "      <td>181</td>\n",
       "      <td>54.233149</td>\n",
       "      <td>52.431737</td>\n",
       "      <td>7.710419</td>\n",
       "      <td>59.450562</td>\n",
       "      <td>0.573111</td>\n",
       "    </tr>\n",
       "    <tr>\n",
       "      <th>Zoniferol</th>\n",
       "      <td>182</td>\n",
       "      <td>53.236507</td>\n",
       "      <td>51.818479</td>\n",
       "      <td>6.966589</td>\n",
       "      <td>48.533355</td>\n",
       "      <td>0.516398</td>\n",
       "    </tr>\n",
       "  </tbody>\n",
       "</table>\n",
       "</div>"
      ],
      "text/plain": [
       "              count       Mean     Median   St.Dev.   Variance       SEM\n",
       "Drug Regimen                                                            \n",
       "Capomulin       230  40.675741  41.557809  4.994774  24.947764  0.329346\n",
       "Ceftamin        178  52.591172  51.776157  6.268188  39.290177  0.469821\n",
       "Infubinol       178  52.884795  51.820584  6.567243  43.128684  0.492236\n",
       "Ketapril        188  55.235638  53.698743  8.279709  68.553577  0.603860\n",
       "Naftisol        186  54.331565  52.509285  8.134708  66.173479  0.596466\n",
       "Placebo         181  54.033581  52.288934  7.821003  61.168083  0.581331\n",
       "Propriva        148  52.320930  50.446266  6.622085  43.852013  0.544332\n",
       "Ramicane        228  40.216745  40.673236  4.846308  23.486704  0.320955\n",
       "Stelasyn        181  54.233149  52.431737  7.710419  59.450562  0.573111\n",
       "Zoniferol       182  53.236507  51.818479  6.966589  48.533355  0.516398"
      ]
     },
     "execution_count": 4,
     "metadata": {},
     "output_type": "execute_result"
    }
   ],
   "source": [
    "#Other way of computing summary stats of TUMOR VOLUME by DRUG REGIMEN\n",
    "a = data.groupby(\"Drug Regimen\")[\"Tumor Volume (mm3)\"]\n",
    "pd.DataFrame({\n",
    "    \"count\": a.count(),\n",
    "    \"Mean\": a.mean(), \"Median\": a.median(),\n",
    "    \"St.Dev.\": a.std(),\"Variance\": a.var(), \n",
    "    \"SEM\": a.std()/np.sqrt(a.count())\n",
    "})"
   ]
  },
  {
   "cell_type": "markdown",
   "id": "unexpected-remedy",
   "metadata": {},
   "source": [
    "### General Descriptive Graphs"
   ]
  },
  {
   "cell_type": "code",
   "execution_count": 5,
   "id": "royal-joint",
   "metadata": {},
   "outputs": [
    {
     "data": {
      "text/plain": [
       "<AxesSubplot:title={'center':'Fig.A - Observations by Drug Regimen'}, xlabel='Drug Regimen', ylabel='Qty. of Observations Taken'>"
      ]
     },
     "execution_count": 5,
     "metadata": {},
     "output_type": "execute_result"
    },
    {
     "data": {
      "image/png": "[encoded data removed]",
      "text/plain": [
       "<Figure size 432x288 with 1 Axes>"
      ]
     },
     "metadata": {
      "needs_background": "light"
     },
     "output_type": "display_data"
    }
   ],
   "source": [
    "#Plotting data w/ Pandas framework\n",
    "#Drug regimen distribution\n",
    "df1.plot(y= \"count\", kind= \"bar\", \n",
    "         title = \"Fig.A - Observations by Drug Regimen\",\n",
    "         xlabel = \"Drug Regimen\",\n",
    "         ylabel = \"Qty. of Observations Taken\",\n",
    "         legend = False)"
   ]
  },
  {
   "cell_type": "code",
   "execution_count": 6,
   "id": "cutting-fusion",
   "metadata": {},
   "outputs": [
    {
     "data": {
      "image/png": "[encoded data removed]",
      "text/plain": [
       "<Figure size 432x288 with 1 Axes>"
      ]
     },
     "metadata": {
      "needs_background": "light"
     },
     "output_type": "display_data"
    }
   ],
   "source": [
    "#Plotting data w/ Pyplot framework --> Looks the same as above\n",
    "#Drug regimen distribution\n",
    "plt.bar(df1.index, df1[\"count\"], width= 0.5)\n",
    "plt.title(\"Fig.A - Observations by Drug Regimen\")\n",
    "plt.xlabel(\"Drug Regimen\")\n",
    "plt.ylabel(\"Qty. of Observations Taken\")\n",
    "plt.xticks(rotation= \"vertical\")\n",
    "plt.show()"
   ]
  },
  {
   "cell_type": "code",
   "execution_count": 7,
   "id": "thirty-township",
   "metadata": {},
   "outputs": [
    {
     "data": {
      "text/plain": [
       "<AxesSubplot:title={'center':'Fig.B - Mouse Population by Sex'}>"
      ]
     },
     "execution_count": 7,
     "metadata": {},
     "output_type": "execute_result"
    },
    {
     "data": {
      "image/png": "[encoded data removed]",
      "text/plain": [
       "<Figure size 432x288 with 1 Axes>"
      ]
     },
     "metadata": {},
     "output_type": "display_data"
    }
   ],
   "source": [
    "#Plotting data w/ Pandas framework \n",
    "#Mice population distribution by Gender\n",
    "a = pd.DataFrame(mouses[\"Sex\"].value_counts())\n",
    "a.plot(y=\"Sex\", kind= \"pie\", explode= [0.025,0.025],\n",
    "       title = \"Fig.B - Mouse Population by Sex\",\n",
    "       ylabel = '', legend = False, autopct='%1.1f%%')"
   ]
  },
  {
   "cell_type": "code",
   "execution_count": 8,
   "id": "satellite-domestic",
   "metadata": {},
   "outputs": [
    {
     "data": {
      "image/png": "[encoded data removed]",
      "text/plain": [
       "<Figure size 432x288 with 1 Axes>"
      ]
     },
     "metadata": {},
     "output_type": "display_data"
    }
   ],
   "source": [
    "#Plotting data w/ Pyplot framework  --> Looks the same as above\n",
    "#Mice population distribution by Gender\n",
    "plt.pie(a[\"Sex\"], autopct='%1.1f%%', explode= [0.025, 0.025], labels= [\"Male\", \"Female\"])\n",
    "plt.title(\"Fig.B - Mouse Population by Sex\")\n",
    "plt.show()"
   ]
  },
  {
   "cell_type": "markdown",
   "id": "honey-latest",
   "metadata": {},
   "source": [
    "### Summary Statistics for Final Tumor Volume on Selected Drug Regimenes"
   ]
  },
  {
   "cell_type": "code",
   "execution_count": 9,
   "id": "collect-attendance",
   "metadata": {},
   "outputs": [
    {
     "name": "stdout",
     "output_type": "stream",
     "text": [
      "-------------------------------------------------------------------------\n",
      "List of mouses final Tumor Volume (mm3) and Drug Regimen (10 cases)\n",
      "\n",
      "          Tumor Volume (mm3) Drug Regimen\n",
      "Mouse ID                                 \n",
      "a203               67.973419    Infubinol\n",
      "a251               65.525743    Infubinol\n",
      "a275               62.999356     Ceftamin\n",
      "a411               38.407618     Ramicane\n",
      "a444               43.047543     Ramicane\n",
      "a520               38.810366     Ramicane\n",
      "a577               57.031862    Infubinol\n",
      "a644               32.978522     Ramicane\n",
      "a685               66.083066    Infubinol\n",
      "b128               38.982878    Capomulin\n",
      "-------------------------------------------------------------------------\n",
      "Summary Statistics for Most Promising Drug Regimenes\n",
      "\n",
      "             describe                                                        \\\n",
      "                count       mean       std        min        25%        50%   \n",
      "Drug Regimen                                                                  \n",
      "Capomulin        25.0  36.667568  5.715188  23.343598  32.377357  38.125164   \n",
      "Ceftamin         25.0  57.753977  8.365568  45.000000  48.722078  59.851956   \n",
      "Infubinol        25.0  58.178246  8.602957  36.321346  54.048608  60.165180   \n",
      "Ramicane         25.0  36.191390  5.671539  22.050126  31.560470  36.561652   \n",
      "\n",
      "                                   InterQRange LowerBound UpperBound  \\\n",
      "                    75%        max                                     \n",
      "Drug Regimen                                                           \n",
      "Capomulin     40.159220  47.685963    7.781863  20.704562  51.832015   \n",
      "Ceftamin      64.299830  68.923185   15.577752  25.355450  87.666458   \n",
      "Infubinol     65.525743  72.226731   11.477135  36.832905  82.741446   \n",
      "Ramicane      40.659006  45.220869    9.098537  17.912664  54.306811   \n",
      "\n",
      "             OutlierCount  \n",
      "                           \n",
      "Drug Regimen               \n",
      "Capomulin               0  \n",
      "Ceftamin                0  \n",
      "Infubinol               1  \n",
      "Ramicane                0  \n"
     ]
    }
   ],
   "source": [
    "#Mouse Final Tumor Volumes by Treatment\n",
    "df2 = data.groupby(\"Mouse ID\")[[\"Tumor Volume (mm3)\", \"Drug Regimen\"]].last()\n",
    "data.loc[data[\"Mouse ID\"] == \"a203\",:] #To verify I got the right numbers, checked with some mice IDs (a203,a251,a275...)\n",
    "\n",
    "#In Focus: Capomulin, Ramicane, Infubinol and Ceftamin\n",
    "df2 = df2.loc[df2[\"Drug Regimen\"].isin([\"Capomulin\", \"Ramicane\", \"Infubinol\", \"Ceftamin\"]), :]\n",
    "\n",
    "#Calculate stats\n",
    "df3 = df2.groupby(\"Drug Regimen\")[\"Tumor Volume (mm3)\"].agg([\"describe\"])\n",
    "df3[\"InterQRange\"] = df3[\"describe\"][\"75%\"] -df3[\"describe\"][\"25%\"]\n",
    "df3[\"LowerBound\"] = df3[\"describe\"][\"25%\"] - (1.5 *  df3[\"InterQRange\"])\n",
    "df3[\"UpperBound\"] = df3[\"describe\"][\"75%\"] + (1.5 *  df3[\"InterQRange\"])\n",
    "outliers = []\n",
    "for drug in df3.index:\n",
    "    outliers.append(df2.loc[(df2[\"Drug Regimen\"] == drug) & \n",
    "            ((df2[\"Tumor Volume (mm3)\"] > df3.loc[drug, \"UpperBound\"][0]) | \n",
    "             (df2[\"Tumor Volume (mm3)\"] < df3.loc[drug, \"LowerBound\"][0])), :].count()[0])\n",
    "df3[\"OutlierCount\"] = outliers\n",
    "\n",
    "print(\"-------------------------------------------------------------------------\")\n",
    "print(\"List of mouses final Tumor Volume (mm3) and Drug Regimen (10 cases)\")\n",
    "print(\"\")\n",
    "print(df2.head(10))\n",
    "print(\"-------------------------------------------------------------------------\")\n",
    "print(\"Summary Statistics for Most Promising Drug Regimenes\")\n",
    "print(\"\")\n",
    "print(df3)\n"
   ]
  },
  {
   "cell_type": "markdown",
   "id": "acting-taste",
   "metadata": {},
   "source": [
    "Seems there are practically no outliers across the 4 top drug regimenes, with the exception of Infubinol which has 1 outlier."
   ]
  },
  {
   "cell_type": "code",
   "execution_count": 10,
   "id": "alpha-cover",
   "metadata": {},
   "outputs": [
    {
     "data": {
      "image/png": "[encoded data removed]",
      "text/plain": [
       "<Figure size 432x288 with 1 Axes>"
      ]
     },
     "metadata": {
      "needs_background": "light"
     },
     "output_type": "display_data"
    }
   ],
   "source": [
    "#Define arrays w/ drug regimens\n",
    "drugs= [\"Capomulin\", \"Ramicane\", \"Infubinol\", \"Ceftamin\"]\n",
    "a= []\n",
    "for i in drugs:\n",
    "    a.append(df2.loc[df2[\"Drug Regimen\"] == i, \"Tumor Volume (mm3)\"])\n",
    "\n",
    "#Plot boxplot\n",
    "plt.subplots()\n",
    "plt.boxplot(a, flierprops= dict(markerfacecolor='r', marker='s'))\n",
    "plt.xticks(ticks= [1,2,3,4],labels =drugs)\n",
    "plt.ylabel(\"Tumor Vol. (mm3)\")\n",
    "plt.title(\"Final Tumor Volume (mm3) by Drug Regimen (selected treatments)\")\n",
    "plt.show()"
   ]
  },
  {
   "cell_type": "markdown",
   "id": "accredited-receiver",
   "metadata": {},
   "source": [
    "### Tumor Evolution by Time w/ Capomulin Treatment - Random Mouse Selection"
   ]
  },
  {
   "cell_type": "code",
   "execution_count": 52,
   "id": "alpha-letters",
   "metadata": {},
   "outputs": [
    {
     "data": {
      "image/png": "[encoded data removed]",
      "text/plain": [
       "<Figure size 432x288 with 1 Axes>"
      ]
     },
     "metadata": {
      "needs_background": "light"
     },
     "output_type": "display_data"
    }
   ],
   "source": [
    "c = data.loc[data[\"Drug Regimen\"] == \"Capomulin\",\"Mouse ID\"].unique() #array of mouses w/ Capomulin treatment\n",
    "samp = c[np.random.randint(0, len(c), 1)][0] #random selection of 1 mouse w/ capomulin treatment\n",
    "samp_dat = data.loc[data[\"Mouse ID\"]== samp,:] #selection of data for that mouse & time series plotting\n",
    "samp_dat.plot(x= \"Timepoint\", y= \"Tumor Volume (mm3)\", \n",
    "              title= f\"Tumor Volume Evolution on Time (Mouse ID: {samp})\",\n",
    "             ylabel= \"Tumor Volume (mm3)\") \n",
    "plt.show()"
   ]
  },
  {
   "cell_type": "code",
   "execution_count": 88,
   "id": "impaired-roberts",
   "metadata": {},
   "outputs": [
    {
     "data": {
      "image/png": "[encoded data removed]",
      "text/plain": [
       "<Figure size 432x288 with 1 Axes>"
      ]
     },
     "metadata": {
      "needs_background": "light"
     },
     "output_type": "display_data"
    }
   ],
   "source": [
    "## Mouse weight scatterplot (Capomulin treatment)\n",
    "\n",
    "plt.scatter(x= data.loc[data[\"Drug Regimen\"] == \"Capomulin\", \"Weight (g)\"],\n",
    "            y= data.loc[data[\"Drug Regimen\"] == \"Capomulin\", \"Tumor Volume (mm3)\"])\n",
    "plt.xlabel(\"Weight (g)\")\n",
    "plt.ylabel(\"Tumor Volume (mm3)\")\n",
    "plt.title(\"Mouse Tumor Volume by Weight (all timepoint observations)\")\n",
    "plt.show()\n",
    "\n",
    "#seems to be a possitive but not so strong linear relationship. \n",
    "#Mouses at timepoints were tumor volumes are larger tend to weight more"
   ]
  },
  {
   "cell_type": "code",
   "execution_count": 122,
   "id": "alleged-memorabilia",
   "metadata": {},
   "outputs": [
    {
     "data": {
      "text/plain": [
       "LinregressResult(slope=0.9609669432428355, intercept=21.489827213299566, rvalue=0.5256995552077169, pvalue=9.605446629501521e-18, stderr=0.10298279892023657, intercept_stderr=2.075157005491298)"
      ]
     },
     "execution_count": 122,
     "metadata": {},
     "output_type": "execute_result"
    }
   ],
   "source": [
    "#Testing correlation coefs. and regression model.\n",
    "corCoef =np.corrcoef(x= data.loc[data[\"Drug Regimen\"] == \"Capomulin\", \"Weight (g)\"],\n",
    "                     y= data.loc[data[\"Drug Regimen\"] == \"Capomulin\", \"Tumor Volume (mm3)\"])[1][0] \n",
    "#Pearson's Corr Coef= 0.5256 \n",
    "corCoef**2 #R^2= 0.2763 -> weak\n",
    "\n",
    "from scipy.stats import linregress\n",
    "lm = linregress(x=  data.loc[data[\"Drug Regimen\"] == \"Capomulin\", \"Weight (g)\"],\n",
    "                y=  data.loc[data[\"Drug Regimen\"] == \"Capomulin\", \"Tumor Volume (mm3)\"])\n",
    "lm_formula = f\"Y = {round(lm[1], 2)} + {round(lm[0],2)}* X\"  #'Y = 21.49 + 0.96* X'"
   ]
  },
  {
   "cell_type": "code",
   "execution_count": 121,
   "id": "sapphire-abuse",
   "metadata": {},
   "outputs": [
    {
     "data": {
      "image/png": "[encoded data removed]",
      "text/plain": [
       "<Figure size 432x288 with 1 Axes>"
      ]
     },
     "metadata": {
      "needs_background": "light"
     },
     "output_type": "display_data"
    }
   ],
   "source": [
    "#Plot regress\n",
    "\n",
    "plt.scatter(x= data.loc[data[\"Drug Regimen\"] == \"Capomulin\", \"Weight (g)\"],\n",
    "            y= data.loc[data[\"Drug Regimen\"] == \"Capomulin\", \"Tumor Volume (mm3)\"])\n",
    "plt.plot(data.loc[data[\"Drug Regimen\"] == \"Capomulin\", \"Weight (g)\"],\n",
    "         data.loc[data[\"Drug Regimen\"] == \"Capomulin\", \"Weight (g)\"] * lm[0] +lm[1]\n",
    "         , \"red\")\n",
    "plt.annotate(lm_formula,(20,30),fontsize=15,color=\"red\")\n",
    "plt.xlabel(\"Weight (g)\")\n",
    "plt.ylabel(\"Tumor Volume (mm3)\")\n",
    "plt.title(\"Mouse Tumor Volume by Weight (all timepoint observations)\")\n",
    "plt.show()"
   ]
  },
  {
   "cell_type": "code",
   "execution_count": null,
   "id": "smart-entrepreneur",
   "metadata": {},
   "outputs": [],
   "source": []
  }
 ],
 "metadata": {
  "kernelspec": {
   "display_name": "Python 3",
   "language": "python",
   "name": "python3"
  },
  "language_info": {
   "codemirror_mode": {
    "name": "ipython",
    "version": 3
   },
   "file_extension": ".py",
   "mimetype": "text/x-python",
   "name": "python",
   "nbconvert_exporter": "python",
   "pygments_lexer": "ipython3",
   "version": "3.7.6"
  }
 },
 "nbformat": 4,
 "nbformat_minor": 5
}
